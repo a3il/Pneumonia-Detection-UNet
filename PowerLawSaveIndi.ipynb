{
 "cells": [
  {
   "cell_type": "code",
   "execution_count": 4,
   "id": "c9798bf0",
   "metadata": {},
   "outputs": [
    {
     "name": "stdout",
     "output_type": "stream",
     "text": [
      "Adaptive CLAHE, power law transformation, and dilation completed.\n"
     ]
    }
   ],
   "source": [
    "import cv2\n",
    "import numpy as np\n",
    "import os\n",
    "\n",
    "# Path to the input image\n",
    "input_image_path = r\"C:\\Users\\adila\\OneDrive\\Desktop\\Pneumonia-Bacterial (79).jpg\"\n",
    "\n",
    "# Read the input image\n",
    "input_image = cv2.imread(input_image_path)\n",
    "\n",
    "# Define the common output directory path\n",
    "output_path = r\"C:\\Users\\adila\\OneDrive\\Desktop\"\n",
    "\n",
    "# Save the input image\n",
    "cv2.imwrite(os.path.join(output_path, \"1input_image.jpg\"), input_image)\n",
    "\n",
    "# Convert image to grayscale\n",
    "gray_image = cv2.cvtColor(input_image, cv2.COLOR_BGR2GRAY)\n",
    "cv2.imwrite(os.path.join(output_path, \"2gray_image.jpg\"), gray_image)\n",
    "\n",
    "# Apply adaptive CLAHE\n",
    "clahe = cv2.createCLAHE(clipLimit=2.0, tileGridSize=(8, 8))\n",
    "clahe_image = clahe.apply(gray_image)\n",
    "cv2.imwrite(os.path.join(output_path, \"3clahe_image.jpg\"), clahe_image)\n",
    "\n",
    "# Apply power law transformation\n",
    "gamma = 1.5\n",
    "power_law_image = np.power(clahe_image / 255.0, gamma)\n",
    "power_law_image = np.uint8(power_law_image * 255)\n",
    "cv2.imwrite(os.path.join(output_path, \"4power_law_image.jpg\"), power_law_image)\n",
    "\n",
    "\n",
    "\n",
    "print(\"Adaptive CLAHE, power law transformation,\")\n"
   ]
  },
  {
   "cell_type": "code",
   "execution_count": null,
   "id": "9716053c",
   "metadata": {},
   "outputs": [],
   "source": []
  }
 ],
 "metadata": {
  "kernelspec": {
   "display_name": "Python 3 (ipykernel)",
   "language": "python",
   "name": "python3"
  },
  "language_info": {
   "codemirror_mode": {
    "name": "ipython",
    "version": 3
   },
   "file_extension": ".py",
   "mimetype": "text/x-python",
   "name": "python",
   "nbconvert_exporter": "python",
   "pygments_lexer": "ipython3",
   "version": "3.10.13"
  }
 },
 "nbformat": 4,
 "nbformat_minor": 5
}
