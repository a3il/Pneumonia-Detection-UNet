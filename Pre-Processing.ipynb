{
 "cells": [
  {
   "cell_type": "code",
   "execution_count": null,
   "id": "a3a02269",
   "metadata": {},
   "outputs": [],
   "source": [
    "import os\n",
    "import cv2\n",
    "import numpy as np\n",
    "\n",
    "# Define the paths\n",
    "dataset_path = r\"C:\\Users\\adila\\OneDrive\\Desktop\\Project\\Datasets\\Curated Dataset for COVID-19 Posterior-Anterior Chest Radiography Images (X-Rays)\\Curated Dataset for COVID-19 Posterior-Anterior Chest Radiography Images (X-Rays)\\Curated X-Ray Dataset\\Curated X-Ray Dataset\"\n",
    "equalized_path = r\"C:\\Users\\adila\\OneDrive\\Desktop\\adaptive CLAHE, non-local means denoising, and power law\"\n",
    "\n",
    "# Function to create directory structure similar to the Dataset folder structure\n",
    "def create_equalised_structure(input_path, output_path):\n",
    "    for root, dirs, files in os.walk(input_path):\n",
    "        for dir in dirs:\n",
    "            output_subdir_path = os.path.join(output_path, os.path.relpath(os.path.join(root, dir), input_path))\n",
    "            os.makedirs(output_subdir_path, exist_ok=True)\n",
    "\n",
    "# Create the output directory structure within the EQUALISED folder\n",
    "create_equalised_structure(dataset_path, equalized_path)\n",
    "\n",
    "def process_images(input_dir, output_dir):\n",
    "    for root, dirs, files in os.walk(input_dir):\n",
    "        for file in files:\n",
    "            if file.endswith(\".jpg\"):\n",
    "                input_image_path = os.path.join(root, file)\n",
    "                output_subdir = root.replace(input_dir, output_dir)\n",
    "                os.makedirs(output_subdir, exist_ok=True)  # Ensure the output subdirectory exists\n",
    "                output_image_path = os.path.join(output_subdir, file)\n",
    "                \n",
    "                # Read the image\n",
    "                image = cv2.imread(input_image_path)\n",
    "                \n",
    "                # Convert image to grayscale\n",
    "                gray_image = cv2.cvtColor(image, cv2.COLOR_BGR2GRAY)\n",
    "\n",
    "                # Apply adaptive CLAHE\n",
    "                clahe = cv2.createCLAHE(clipLimit=2.0, tileGridSize=(8, 8))\n",
    "                clahe_image = clahe.apply(gray_image)\n",
    "\n",
    "                # Apply non-local means denoising\n",
    "                denoised_image = cv2.fastNlMeansDenoising(clahe_image, None, h=10, templateWindowSize=7, searchWindowSize=21)\n",
    "                \n",
    "                # Apply power law transformation with gamma 1.5\n",
    "                gamma = 1.5\n",
    "                power_law_image = np.power(denoised_image / 255.0, gamma)\n",
    "                power_law_image = np.uint8(power_law_image * 255)\n",
    "                \n",
    "                # Save the processed image\n",
    "                cv2.imwrite(output_image_path, power_law_image)\n",
    "\n",
    "# Process images in the Dataset directory\n",
    "process_images(dataset_path, equalized_path)\n",
    "\n",
    "print(\"Grayscale conversion, adaptive CLAHE, non-local means denoising, and power law transformation completed.\")\n"
   ]
  },
  {
   "cell_type": "code",
   "execution_count": null,
   "id": "a35619a0",
   "metadata": {},
   "outputs": [],
   "source": []
  }
 ],
 "metadata": {
  "kernelspec": {
   "display_name": "Python 3 (ipykernel)",
   "language": "python",
   "name": "python3"
  },
  "language_info": {
   "codemirror_mode": {
    "name": "ipython",
    "version": 3
   },
   "file_extension": ".py",
   "mimetype": "text/x-python",
   "name": "python",
   "nbconvert_exporter": "python",
   "pygments_lexer": "ipython3",
   "version": "3.10.13"
  }
 },
 "nbformat": 4,
 "nbformat_minor": 5
}
